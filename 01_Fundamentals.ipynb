{
 "cells": [
  {
   "cell_type": "markdown",
   "metadata": {},
   "source": [
    "# Modules/packages/libraries\n",
    "\n",
    "Definitions:\n",
    "\n",
    "  * Modules:\n",
    "  A module is a file which contains python functions, global variables etc. It is nothing but .py file which has python executable code / statement.\n",
    "\n",
    "  * Packages:\n",
    "  A package is a namespace which contains multiple package/modules. It is a directory which contains a special file `__init__.py`\n",
    "  \n",
    "  * Libraries:\n",
    "  A library is a collection of various packages. There is no difference between package and python library conceptually.\n",
    "  \n",
    "Modules/packages/libraries can be easily \"imported\" and made functional in your python code. A set of libriaries comes with every python installation. Others can be installed locally and then imported. Your own code sitting somewhere else in your local computer can be imported too.\n",
    "\n",
    "Further details (very important!) on packages and how to create them can be found online. We may find the need of creating our own during the course."
   ]
  },
  {
   "cell_type": "code",
   "execution_count": 2,
   "metadata": {},
   "outputs": [
    {
     "name": "stdout",
     "output_type": "stream",
     "text": [
      "3.141592653589793\n",
      "3.141592653589793\n",
      "3.141592653589793\n"
     ]
    }
   ],
   "source": [
    "###### all the \"stuff\" that is in the math library can be used\n",
    "import math\n",
    "print(math.pi)\n",
    "\n",
    "# you can give math a label for convenience\n",
    "import math as m\n",
    "print (m.pi)\n",
    "\n",
    "# alternatively you can import only a given \"thing\" from the library\n",
    "from math import pi    #you can add several libraries at once, just list them separated by a \", \"\n",
    "print (pi)\n",
    "\n",
    "# or just get everything (very dangerous!!!)\n",
    "#from math import *\n",
    "#print (sqrt(7))"
   ]
  },
  {
   "cell_type": "markdown",
   "metadata": {},
   "source": [
    "To know which modules are there for you to use just type:"
   ]
  },
  {
   "cell_type": "code",
   "execution_count": 3,
   "metadata": {},
   "outputs": [
    {
     "name": "stdout",
     "output_type": "stream",
     "text": [
      "\n",
      "Please wait a moment while I gather a list of all available modules...\n",
      "\n"
     ]
    },
    {
     "name": "stderr",
     "output_type": "stream",
     "text": [
      "/home/william/anaconda3/lib/python3.9/site-packages/IPython/kernel/__init__.py:12: ShimWarning: The `IPython.kernel` package has been deprecated since IPython 4.0.You should import from ipykernel or jupyter_client instead.\n",
      "  warn(\"The `IPython.kernel` package has been deprecated since IPython 4.0.\"\n",
      "WARNING: AstropyDeprecationWarning: The private astropy._erfa module has been made into its own package, pyerfa, which is a dependency of astropy and can be imported directly using \"import erfa\" [astropy._erfa]\n",
      "/home/william/anaconda3/lib/python3.9/site-packages/nltk/twitter/__init__.py:20: UserWarning: The twython library has not been installed. Some functionality from the twitter package will not be available.\n",
      "  warnings.warn(\n",
      "/home/william/anaconda3/lib/python3.9/site-packages/_distutils_hack/__init__.py:33: UserWarning: Setuptools is replacing distutils.\n",
      "  warnings.warn(\"Setuptools is replacing distutils.\")\n",
      "/home/william/anaconda3/lib/python3.9/pkgutil.py:93: UserWarning:\n",
      "\n",
      "viewer requires Qt\n",
      "\n"
     ]
    },
    {
     "name": "stdout",
     "output_type": "stream",
     "text": [
      "Cython              cgitb               keyword             rope\n",
      "IPython             chardet             kiwisolver          rtree\n",
      "OpenSSL             charset_normalizer  lazy_object_proxy   ruamel_yaml\n",
      "PIL                 chunk               lib2to3             runpy\n",
      "PyQt5               click               libarchive          s3transfer\n",
      "TBB                 cloudpickle         libfuturize         sched\n",
      "__future__          clyent              libpasteurize       scipy\n",
      "_abc                cmath               lief                scrapy\n",
      "_aix_support        cmd                 linecache           seaborn\n",
      "_argon2_cffi_bindings code                llvmlite            secrets\n",
      "_ast                codecs              locale              secretstorage\n",
      "_asyncio            codeop              locket              select\n",
      "_bisect             collections         logging             selectors\n",
      "_black_version      colorama            lxml                send2trash\n",
      "_blake2             colorcet            lz4                 service_identity\n",
      "_bootlocale         colorsys            lzma                setuptools\n",
      "_bootsubprocess     compileall          mailbox             shelve\n",
      "_bz2                concurrent          mailcap             shlex\n",
      "_cffi_backend       conda               markdown            shutil\n",
      "_codecs             conda_build         markupsafe          signal\n",
      "_codecs_cn          conda_content_trust marshal             sipbuild\n",
      "_codecs_hk          conda_env           math                site\n",
      "_codecs_iso2022     conda_pack          matplotlib          six\n",
      "_codecs_jp          conda_package_handling matplotlib_inline   skimage\n",
      "_codecs_kr          conda_token         mccabe              sklearn\n",
      "_codecs_tw          conda_verify        mimetypes           sklearnex\n",
      "_collections        configparser        mistune             slugify\n",
      "_collections_abc    constantly          mkl                 smart_open\n",
      "_compat_pickle      contextlib          mkl_fft             smtpd\n",
      "_compression        contextvars         mkl_random          smtplib\n",
      "_contextvars        cookiecutter        mmap                snappy\n",
      "_crypt              copy                mock                sndhdr\n",
      "_csv                copyreg             modulefinder        sniffio\n",
      "_ctypes             crypt               mpmath              snowballstemmer\n",
      "_ctypes_test        cryptography        msgpack             socket\n",
      "_curses             cssselect           multipledispatch    socketserver\n",
      "_curses_panel       csv                 multiprocessing     socks\n",
      "_datetime           ctypes              munkres             sockshandler\n",
      "_decimal            curl                mypy_extensions     sortedcollections\n",
      "_distutils_hack     curses              navigator_updater   sortedcontainers\n",
      "_elementtree        cycler              nbclassic           soupsieve\n",
      "_functools          cython              nbclient            sphinx\n",
      "_hashlib            cythonmagic         nbconvert           spwd\n",
      "_heapq              cytoolz             nbformat            spyder\n",
      "_imp                daal4py             nest_asyncio        spyder_kernels\n",
      "_io                 dask                netrc               sqlalchemy\n",
      "_json               dataclasses         networkx            sqlite3\n",
      "_locale             datashader          nis                 sre_compile\n",
      "_lsprof             datashape           nltk                sre_constants\n",
      "_lzma               datetime            nntplib             sre_parse\n",
      "_markupbase         dateutil            nose                ssl\n",
      "_md5                dbm                 notebook            stat\n",
      "_multibytecodec     debugpy             ntpath              statistics\n",
      "_multiprocessing    decimal             nturl2path          statsmodels\n",
      "_opcode             decorator           numba               storemagic\n",
      "_operator           defusedxml          numbergen           string\n",
      "_osx_support        diff_match_patch    numbers             stringprep\n",
      "_peg_parser         difflib             numexpr             struct\n",
      "_pickle             dill                numpy               subprocess\n",
      "_plotly_future_     dis                 numpydoc            sunau\n",
      "_plotly_utils       distributed         olefile             symbol\n",
      "_posixshmem         distutils           onedal              sympy\n",
      "_posixsubprocess    doctest             opcode              sympyprinting\n",
      "_py_abc             docutils            openpyxl            symtable\n",
      "_pydecimal          email               operator            sys\n",
      "_pyio               encodings           optparse            sysconfig\n",
      "_pyrsistent_version ensurepip           os                  syslog\n",
      "_pytest             entrypoints         ossaudiodev         tables\n",
      "_queue              enum                packaging           tabnanny\n",
      "_random             erfa                pandas              tabulate\n",
      "_sha1               errno               pandocfilters       tarfile\n",
      "_sha256             et_xmlfile          panel               tbb\n",
      "_sha3               fastjsonschema      param               tblib\n",
      "_sha512             faulthandler        parsel              telnetlib\n",
      "_signal             fcntl               parser              tempfile\n",
      "_sitebuiltins       filecmp             parso               tenacity\n",
      "_socket             fileinput           partd               terminado\n",
      "_sqlite3            filelock            past                termios\n",
      "_sre                flake8              pathlib             test\n",
      "_ssl                flask               pathspec            test_pycosat\n",
      "_stat               fnmatch             patsy               testpath\n",
      "_statistics         fontTools           pdb                 tests\n",
      "_string             formatter           pep8                text_unidecode\n",
      "_strptime           fractions           pexpect             textdistance\n",
      "_struct             fsspec              pickle              textwrap\n",
      "_symtable           ftplib              pickleshare         this\n",
      "_sysconfigdata__linux_x86_64-linux-gnu functools           pickletools         threading\n",
      "_sysconfigdata_x86_64_conda_cos6_linux_gnu future              pip                 threadpoolctl\n",
      "_sysconfigdata_x86_64_conda_cos7_linux_gnu gc                  pipes               three_merge\n",
      "_sysconfigdata_x86_64_conda_linux_gnu genericpath         pkg_resources       tifffile\n",
      "_testbuffer         gensim              pkginfo             time\n",
      "_testcapi           getopt              pkgutil             timeit\n",
      "_testimportmultiple getpass             platform            tinycss\n",
      "_testinternalcapi   gettext             platformdirs        tkinter\n",
      "_testmultiphase     glob                plistlib            tldextract\n",
      "_thread             glob2               plotly              tlz\n",
      "_threading_local    gmpy2               pluggy              token\n",
      "_tkinter            graphlib            ply                 tokenize\n",
      "_tracemalloc        greenlet            poplib              toml\n",
      "_uuid               grp                 posix               tomli\n",
      "_warnings           gzip                posixpath           tomlkit\n",
      "_weakref            h5py                poyo                toolz\n",
      "_weakrefset         hamcrest            pprint              tornado\n",
      "_xxsubinterpreters  hashlib             profile             tqdm\n",
      "_xxtestfuzz         heapdict            prometheus_client   trace\n",
      "_yaml               heapq               prompt_toolkit      traceback\n",
      "_zoneinfo           hmac                protego             tracemalloc\n",
      "abc                 holoviews           pstats              traitlets\n",
      "aifc                html                psutil              tty\n",
      "alabaster           http                pty                 turtle\n",
      "anaconda_navigator  hvplot              ptyprocess          turtledemo\n",
      "anaconda_project    hyperlink           pvectorc            twisted\n",
      "antigravity         idlelib             pwd                 types\n",
      "anyio               idna                py                  typing\n",
      "appdirs             imagecodecs         py_compile          typing_extensions\n",
      "argon2              imageio             pyasn1              ujson\n",
      "argparse            imagesize           pyasn1_modules      unicodedata\n",
      "array               imaplib             pyclbr              unidecode\n",
      "arrow               imghdr              pycodestyle         unittest\n",
      "ast                 imp                 pycosat             urllib\n",
      "astroid             importlib           pycparser           urllib3\n",
      "astropy             importlib_metadata  pyct                uu\n",
      "asynchat            incremental         pycurl              uuid\n",
      "asyncio             inflection          pydispatch          venv\n",
      "asyncore            iniconfig           pydoc               w3lib\n",
      "atexit              inspect             pydoc_data          warnings\n",
      "atomicwrites        intake              pydocstyle          watchdog\n",
      "attr                intervaltree        pyexpat             wave\n",
      "attrs               io                  pyflakes            wcwidth\n",
      "audioop             ipaddress           pygments            weakref\n",
      "automat             ipykernel           pylab               webbrowser\n",
      "autopep8            ipykernel_launcher  pylint              webencodings\n",
      "autoreload          ipython_genutils    pyls_spyder         websocket\n",
      "babel               ipywidgets          pylsp               werkzeug\n",
      "backcall            isort               pylsp_black         whatthepatch\n",
      "backports           isympy              pylsp_jsonrpc       wheel\n",
      "base64              itemadapter         pyodbc              widgetsnbextension\n",
      "bcrypt              itemloaders         pyparsing           wrapt\n",
      "bdb                 itertools           pyrsistent          wsgiref\n",
      "binaryornot         itsdangerous        pytest              wurlitzer\n",
      "binascii            jdcal               pytz                xarray\n",
      "binhex              jedi                pyviz_comms         xdg\n",
      "binstar_client      jeepney             pywt                xdrlib\n",
      "bisect              jellyfish           pyximport           xlrd\n",
      "bitarray            jinja2              qdarkstyle          xlsxwriter\n",
      "bkcharts            jinja2_time         qstylizer           xml\n",
      "black               jmespath            qtawesome           xmlrpc\n",
      "blackd              joblib              qtconsole           xxlimited\n",
      "bleach              json                qtpy                xxsubtype\n",
      "blib2to3            json5               queue               yaml\n",
      "bokeh               jsonschema          queuelib            yapf\n",
      "boto3               jupyter             quopri              yapftests\n",
      "botocore            jupyter_client      random              zict\n",
      "bottleneck          jupyter_console     re                  zipapp\n",
      "brotli              jupyter_core        readline            zipfile\n",
      "bs4                 jupyter_server      regex               zipimport\n",
      "builtins            jupyterlab          repo_cli            zipp\n",
      "bz2                 jupyterlab_plotly   reprlib             zlib\n",
      "cProfile            jupyterlab_pygments requests            zmq\n",
      "calendar            jupyterlab_server   requests_file       zoneinfo\n",
      "certifi             jupyterlab_widgets  resource            zope\n",
      "cffi                jwt                 rlcompleter         \n",
      "cgi                 keyring             rmagic              \n",
      "\n",
      "Enter any module name to get more help.  Or, type \"modules spam\" to search\n",
      "for modules whose name or summary contain the string \"spam\".\n",
      "\n",
      "None\n"
     ]
    },
    {
     "name": "stderr",
     "output_type": "stream",
     "text": [
      "/home/william/anaconda3/lib/python3.9/pkgutil.py:108: VisibleDeprecationWarning:\n",
      "\n",
      "zmq.eventloop.minitornado is deprecated in pyzmq 14.0 and will be removed.\n",
      "    Install tornado itself to use zmq with the tornado IOLoop.\n",
      "    \n",
      "\n"
     ]
    }
   ],
   "source": [
    "print (help('modules') )\n"
   ]
  },
  {
   "cell_type": "markdown",
   "metadata": {},
   "source": [
    "`pip` is a special package. It is used from the command line to install properly (e.g. matching the version of the local packages) new packages. It can also be used from within python to check i.e. the set installed packages and their versions. N.B.: only the installed packages on top of the default ones will be listed "
   ]
  },
  {
   "cell_type": "code",
   "execution_count": 5,
   "metadata": {},
   "outputs": [
    {
     "name": "stdout",
     "output_type": "stream",
     "text": [
      "['alabaster==0.7.12', 'anaconda-client==1.11.0', 'anaconda-navigator==2.3.1', 'anaconda-project==0.11.1', 'anyio==3.5.0', 'appdirs==1.4.4', 'argon2-cffi-bindings==21.2.0', 'argon2-cffi==21.3.0', 'arrow==1.2.2', 'astroid==2.11.7', 'astropy==5.1', 'atomicwrites==1.4.0', 'attrs==21.4.0', 'automat==20.2.0', 'autopep8==1.6.0', 'babel==2.9.1', 'backcall==0.2.0', 'backports.functools-lru-cache==1.6.4', 'backports.tempfile==1.0', 'backports.weakref==1.0.post1', 'bcrypt==3.2.0', 'beautifulsoup4==4.11.1', 'binaryornot==0.4.4', 'bitarray==2.5.1', 'bkcharts==0.2', 'black==22.6.0', 'bleach==4.1.0', 'bokeh==2.4.3', 'boto3==1.24.28', 'botocore==1.27.28', 'bottleneck==1.3.5', 'brotlipy==0.7.0', 'certifi==2022.9.14', 'cffi==1.15.1', 'chardet==4.0.0', 'charset-normalizer==2.0.4', 'click==8.0.4', 'cloudpickle==2.0.0', 'clyent==1.2.2', 'colorama==0.4.5', 'colorcet==3.0.0', 'conda-build==3.22.0', 'conda-content-trust==0.1.3', 'conda-pack==0.6.0', 'conda-package-handling==1.9.0', 'conda-repo-cli==1.0.20', 'conda-token==0.4.0', 'conda-verify==3.4.2', 'conda==22.9.0', 'constantly==15.1.0', 'cookiecutter==1.7.3', 'cryptography==37.0.1', 'cssselect==1.1.0', 'cycler==0.11.0', 'cython==0.29.32', 'cytoolz==0.11.0', 'daal4py==2021.6.0', 'dask==2022.7.0', 'datashader==0.14.1', 'datashape==0.5.4', 'debugpy==1.5.1', 'decorator==5.1.1', 'defusedxml==0.7.1', 'diff-match-patch==20200713', 'dill==0.3.4', 'distributed==2022.7.0', 'docutils==0.18.1', 'entrypoints==0.4', 'et-xmlfile==1.1.0', 'fastjsonschema==2.16.2', 'filelock==3.6.0', 'flake8==4.0.1', 'flask==1.1.2', 'fonttools==4.25.0', 'fsspec==2022.7.1', 'future==0.18.2', 'gensim==4.1.2', 'glob2==0.7', 'gmpy2==2.1.2', 'greenlet==1.1.1', 'h5py==3.7.0', 'heapdict==1.0.1', 'holoviews==1.15.0', 'hvplot==0.8.0', 'hyperlink==21.0.0', 'idna==3.3', 'imagecodecs==2021.8.26', 'imageio==2.19.3', 'imagesize==1.4.1', 'importlib-metadata==4.11.3', 'incremental==21.3.0', 'inflection==0.5.1', 'iniconfig==1.1.1', 'intake==0.6.5', 'intervaltree==3.1.0', 'ipykernel==6.15.2', 'ipython-genutils==0.2.0', 'ipython==7.31.1', 'ipywidgets==7.6.5', 'isort==5.9.3', 'itemadapter==0.3.0', 'itemloaders==1.0.4', 'itsdangerous==2.0.1', 'jdcal==1.4.1', 'jedi==0.18.1', 'jeepney==0.7.1', 'jellyfish==0.9.0', 'jinja2-time==0.2.0', 'jinja2==2.11.3', 'jmespath==0.10.0', 'joblib==1.1.0', 'json5==0.9.6', 'jsonschema==4.16.0', 'jupyter-client==7.3.4', 'jupyter-console==6.4.3', 'jupyter-core==4.11.1', 'jupyter-server==1.18.1', 'jupyter==1.0.0', 'jupyterlab-pygments==0.1.2', 'jupyterlab-server==2.10.3', 'jupyterlab-widgets==1.0.0', 'jupyterlab==3.4.4', 'keyring==23.4.0', 'kiwisolver==1.4.2', 'lazy-object-proxy==1.6.0', 'libarchive-c==2.9', 'llvmlite==0.38.0', 'locket==1.0.0', 'lxml==4.9.1', 'lz4==3.1.3', 'markdown==3.3.4', 'markupsafe==2.0.1', 'matplotlib-inline==0.1.6', 'matplotlib==3.5.2', 'mccabe==0.7.0', 'mistune==0.8.4', 'mkl-fft==1.3.1', 'mkl-random==1.2.2', 'mkl-service==2.4.0', 'mock==4.0.3', 'mpmath==1.2.1', 'msgpack==1.0.3', 'multipledispatch==0.6.0', 'munkres==1.1.4', 'mypy-extensions==0.4.3', 'navigator-updater==0.3.0', 'nbclassic==0.3.5', 'nbclient==0.5.13', 'nbconvert==6.4.4', 'nbformat==5.5.0', 'nest-asyncio==1.5.5', 'networkx==2.8.4', 'nltk==3.7', 'nose==1.3.7', 'notebook==6.4.12', 'numba==0.55.1', 'numexpr==2.8.3', 'numpy==1.21.5', 'numpydoc==1.4.0', 'olefile==0.46', 'openpyxl==3.0.10', 'packaging==21.3', 'pandas==1.4.4', 'pandocfilters==1.5.0', 'panel==0.13.1', 'param==1.12.0', 'parsel==1.6.0', 'parso==0.8.3', 'partd==1.2.0', 'pathlib==1.0.1', 'pathspec==0.9.0', 'patsy==0.5.2', 'pep8==1.7.1', 'pexpect==4.8.0', 'pickleshare==0.7.5', 'pillow==9.2.0', 'pip==22.2.2', 'pkginfo==1.8.2', 'platformdirs==2.5.2', 'plotly==5.9.0', 'pluggy==1.0.0', 'ply==3.11', 'poyo==0.5.0', 'prometheus-client==0.14.1', 'prompt-toolkit==3.0.20', 'protego==0.1.16', 'psutil==5.9.0', 'ptyprocess==0.7.0', 'py==1.11.0', 'pyasn1-modules==0.2.8', 'pyasn1==0.4.8', 'pycodestyle==2.8.0', 'pycosat==0.6.3', 'pycparser==2.21', 'pyct==0.4.8', 'pycurl==7.45.1', 'pydispatcher==2.0.5', 'pydocstyle==6.1.1', 'pyerfa==2.0.0', 'pyflakes==2.4.0', 'pygments==2.11.2', 'pyhamcrest==2.0.2', 'pyjwt==2.4.0', 'pylint==2.14.5', 'pyls-spyder==0.4.0', 'pyodbc==4.0.34', 'pyopenssl==22.0.0', 'pyparsing==3.0.9', 'pyqt5-sip==12.11.0', 'pyrsistent==0.18.0', 'pysocks==1.7.1', 'pytest==7.1.2', 'python-dateutil==2.8.2', 'python-lsp-black==1.2.1', 'python-lsp-jsonrpc==1.0.0', 'python-lsp-server==1.5.0', 'python-slugify==5.0.2', 'python-snappy==0.6.0', 'pytz==2022.1', 'pyviz-comms==2.0.2', 'pywavelets==1.3.0', 'pyxdg==0.27', 'pyyaml==6.0', 'pyzmq==23.2.0', 'qdarkstyle==3.0.2', 'qstylizer==0.1.10', 'qtawesome==1.0.3', 'qtconsole==5.3.2', 'qtpy==2.2.0', 'queuelib==1.5.0', 'regex==2022.7.9', 'requests-file==1.5.1', 'requests==2.28.1', 'rope==0.22.0', 'rtree==0.9.7', 'ruamel-yaml-conda==0.15.100', 's3transfer==0.6.0', 'scikit-image==0.19.2', 'scikit-learn-intelex==2021.20221004.171807', 'scikit-learn==1.0.2', 'scipy==1.9.1', 'scrapy==2.6.2', 'seaborn==0.11.2', 'secretstorage==3.3.1', 'send2trash==1.8.0', 'service-identity==18.1.0', 'setuptools==63.4.1', 'sip==6.6.2', 'six==1.16.0', 'smart-open==5.2.1', 'sniffio==1.2.0', 'snowballstemmer==2.2.0', 'sortedcollections==2.1.0', 'sortedcontainers==2.4.0', 'soupsieve==2.3.1', 'sphinx==5.0.2', 'sphinxcontrib-applehelp==1.0.2', 'sphinxcontrib-devhelp==1.0.2', 'sphinxcontrib-htmlhelp==2.0.0', 'sphinxcontrib-jsmath==1.0.1', 'sphinxcontrib-qthelp==1.0.3', 'sphinxcontrib-serializinghtml==1.1.5', 'spyder-kernels==2.3.3', 'spyder==5.3.3', 'sqlalchemy==1.4.39', 'statsmodels==0.13.2', 'sympy==1.10.1', 'tables==3.6.1', 'tabulate==0.8.10', 'tbb==0.2', 'tblib==1.7.0', 'tenacity==8.0.1', 'terminado==0.13.1', 'testpath==0.6.0', 'text-unidecode==1.3', 'textdistance==4.2.1', 'threadpoolctl==2.2.0', 'three-merge==0.1.1', 'tifffile==2021.7.2', 'tinycss==0.4', 'tldextract==3.2.0', 'toml==0.10.2', 'tomli==2.0.1', 'tomlkit==0.11.1', 'toolz==0.11.2', 'tornado==6.1', 'tqdm==4.64.1', 'traitlets==5.1.1', 'twisted==22.2.0', 'typing-extensions==4.3.0', 'ujson==5.4.0', 'unidecode==1.2.0', 'urllib3==1.26.11', 'w3lib==1.21.0', 'watchdog==2.1.6', 'wcwidth==0.2.5', 'webencodings==0.5.1', 'websocket-client==0.58.0', 'werkzeug==2.0.3', 'whatthepatch==1.0.2', 'wheel==0.37.1', 'widgetsnbextension==3.5.2', 'wrapt==1.14.1', 'wurlitzer==3.0.2', 'xarray==0.20.1', 'xlrd==2.0.1', 'xlsxwriter==3.0.3', 'yapf==0.31.0', 'zict==2.1.0', 'zipp==3.8.0', 'zope.interface==5.4.0']\n"
     ]
    }
   ],
   "source": [
    "\"\"\"\"\"\n",
    "try:\n",
    "    # this doesn't work anymore\n",
    "    import pip\n",
    "    sorted([\"%s==%s\" % (i.key, i.version) for i in pip._internal.utils.misc.get_installed_distributions()])\n",
    "    print (\"within try\")\n",
    "\"\"\"\"\" \n",
    "# use this instead\n",
    "import pkg_resources\n",
    "installed_packages = pkg_resources.working_set\n",
    "installed_packages_list = sorted([\"%s==%s\" % (i.key, i.version)\n",
    "    for i in installed_packages])\n",
    "print(installed_packages_list)\n"
   ]
  },
  {
   "cell_type": "markdown",
   "metadata": {},
   "source": [
    "# Copies and Views\n",
    "\n",
    "#### Copies:\n",
    "* A **copy** creates a new object that is a duplicate of the original one.\n",
    "* Changes made to the copy do not affect the original object, and vice versa.\n",
    "* There are two types of copies:\n",
    "  * Shallow Copy: Only the top-level object is copied. If the original object contains references to other objects (e.g., a list of lists), the references are copied, not the objects themselves.\n",
    "  * Deep Copy: A complete copy is made, including all nested objects. Changes to any part of the deep copy won’t affect the original object."
   ]
  },
  {
   "cell_type": "code",
   "execution_count": 7,
   "metadata": {},
   "outputs": [
    {
     "name": "stdout",
     "output_type": "stream",
     "text": [
      "Original: [1, 2, [300, 4]]\n",
      "Shallow Copy: [100, 2, [300, 4]]\n"
     ]
    }
   ],
   "source": [
    "import copy\n",
    "original = [1, 2, [3, 4]]\n",
    "shallow_copy = copy.copy(original)\n",
    "\n",
    "shallow_copy[0] = 100  # This won't affect the original\n",
    "shallow_copy[2][0] = 300  # This will affect the original's nested list\n",
    "\n",
    "print(\"Original:\", original)  # Output: [1, 2, [300, 4]]\n",
    "print(\"Shallow Copy:\", shallow_copy)  # Output: [100, 2, [300, 4]]\n",
    "\n",
    "#changed the nested list affect the original copy (shallow copy) --> pay attention\n"
   ]
  },
  {
   "cell_type": "markdown",
   "metadata": {},
   "source": [
    "#### Views:\n",
    "* A view provides a reference to the original object without creating a new object.\n",
    "* Changes made through the view directly affect the original object because the view is simply another way of accessing the original data.\n",
    "* We will see in the next classes that NumPy arrays and Pandas DataFrames often deal with views when you slice or manipulate them.\n"
   ]
  },
  {
   "cell_type": "code",
   "execution_count": 9,
   "metadata": {},
   "outputs": [
    {
     "name": "stdout",
     "output_type": "stream",
     "text": [
      "Original array: [  1 100   3   4]\n",
      "View: [100   3]\n"
     ]
    }
   ],
   "source": [
    "import numpy as np\n",
    "arr = np.array([1, 2, 3, 4])\n",
    "view = arr[1:3]  # This creates a view, not a copy\n",
    "\n",
    "view[0] = 100  # Modifies the original array\n",
    "\n",
    "print(\"Original array:\", arr)  # Output: [  1 100   3   4]\n",
    "print(\"View:\", view)  # Output: [100   3]\n",
    "\n",
    "#a view is practically a reference --> here modifying the copy you modified also the original"
   ]
  },
  {
   "cell_type": "markdown",
   "metadata": {},
   "source": [
    "# Functions"
   ]
  },
  {
   "cell_type": "code",
   "execution_count": 10,
   "metadata": {},
   "outputs": [
    {
     "name": "stdout",
     "output_type": "stream",
     "text": [
      "9\n",
      "27\n",
      "cube 27\n",
      "square 9\n"
     ]
    }
   ],
   "source": [
    "def square(x):\n",
    "    \"\"\"Square of x.\"\"\"\n",
    "    return x*x\n",
    "\n",
    "def cube(x):\n",
    "    \"\"\"Cube of x.\"\"\"\n",
    "    return x*x*x\n",
    "\n",
    "# create a dictionary of functions\n",
    "funcs = {\n",
    "    'square': square,\n",
    "    'cube': cube,\n",
    "}\n",
    "\n",
    "x = 3\n",
    "print(square(x))\n",
    "print(cube(x))\n",
    "\n",
    "for func in sorted(funcs):\n",
    "    print (func, funcs[func](x))"
   ]
  },
  {
   "cell_type": "markdown",
   "metadata": {},
   "source": [
    "## Functions arguments"
   ]
  },
  {
   "cell_type": "markdown",
   "metadata": {},
   "source": [
    "In Python, whether arguments passed to a function are treated as views or copies depends on the data type of the argument and how it is handled inside the function. Here's how Python handles various types of arguments:\n",
    "\n",
    "**Immutable Types** (e.g., integers, strings, tuples):\n",
    "* For immutable types like `int`, `str`, and `tuple`, when you pass them as arguments to a function, Python creates a copy of the reference to the object, not the object itself.\n",
    "* Since these objects cannot be modified, any attempt to change them inside the function results in the creation of a new object, leaving the original object unchanged."
   ]
  },
  {
   "cell_type": "code",
   "execution_count": 15,
   "metadata": {},
   "outputs": [
    {
     "name": "stdout",
     "output_type": "stream",
     "text": [
      "Inside function: 11\n",
      "Outside function: 10\n"
     ]
    }
   ],
   "source": [
    "def modify(x):#passed a copy\n",
    "    x += 1\n",
    "    print(\"Inside function:\", x)\n",
    "\n",
    "a = 10\n",
    "modify(a)\n",
    "print(\"Outside function:\", a)\n",
    "\n",
    "#in python we do not need to tell the type argument passed in a function --> essentialy creates a copy (for immutable objects)"
   ]
  },
  {
   "cell_type": "markdown",
   "metadata": {},
   "source": [
    "**Mutable Types** (e.g., lists, dictionaries, sets):\n",
    "* For mutable types like `list`, `dict`, or `set`, Python passes a reference to the original object. This means that any modification made to the object inside the function will affect the original object outside the function, as they both reference the same object (this behaves like a view)."
   ]
  },
  {
   "cell_type": "code",
   "execution_count": 16,
   "metadata": {},
   "outputs": [
    {
     "name": "stdout",
     "output_type": "stream",
     "text": [
      "Inside function: [1, 2, 3, 4]\n",
      "Outside function: [1, 2, 3, 4]\n"
     ]
    }
   ],
   "source": [
    "def modify_list(lst):\n",
    "    lst.append(4)\n",
    "    print(\"Inside function:\", lst)\n",
    "\n",
    "my_list = [1, 2, 3]\n",
    "modify_list(my_list)\n",
    "print(\"Outside function:\", my_list)\n"
   ]
  },
  {
   "cell_type": "markdown",
   "metadata": {},
   "source": [
    "## Higher order functions\n",
    "\n",
    "A function that uses another function as an input argument or returns a function is known as a higher-order function (HOF). The most familiar examples are `map` and `filter`."
   ]
  },
  {
   "cell_type": "markdown",
   "metadata": {},
   "source": [
    "### map\n",
    "\n",
    "The map function applies a function to each member of a collection"
   ]
  },
  {
   "cell_type": "code",
   "execution_count": 17,
   "metadata": {},
   "outputs": [
    {
     "name": "stdout",
     "output_type": "stream",
     "text": [
      "[0, 1, 4, 9, 16]\n",
      "0\n",
      "1\n",
      "4\n",
      "9\n",
      "16\n"
     ]
    },
    {
     "data": {
      "text/plain": [
       "[0, 1, 4, 9, 16, 25]"
      ]
     },
     "execution_count": 17,
     "metadata": {},
     "output_type": "execute_result"
    }
   ],
   "source": [
    "x = list(map(square, range(5))) #mapping the function to each element from 0 and for\n",
    "print (x)\n",
    "\n",
    "# Note the difference w.r.t python 2. In python 3 map retuns an iterator so you can do stuff like:\n",
    "for i in map(square,range(5)): \n",
    "    print(i)\n",
    "\n",
    "# or\n",
    "[i for i in map(square,range(6))]"
   ]
  },
  {
   "cell_type": "markdown",
   "metadata": {},
   "source": [
    "### filter\n",
    "\n",
    "The filter function applies a predicate to each member of a collection, retaining only those members where the predicate is True"
   ]
  },
  {
   "cell_type": "code",
   "execution_count": 18,
   "metadata": {},
   "outputs": [
    {
     "name": "stdout",
     "output_type": "stream",
     "text": [
      "[0, 2, 4]\n"
     ]
    }
   ],
   "source": [
    "def is_even(x):\n",
    "    return x%2 == 0\n",
    "\n",
    "print (list(filter(is_even, range(5))))"
   ]
  },
  {
   "cell_type": "markdown",
   "metadata": {},
   "source": [
    "Combinations in sequence of HOF are obviously possible"
   ]
  },
  {
   "cell_type": "code",
   "execution_count": 19,
   "metadata": {},
   "outputs": [
    {
     "data": {
      "text/plain": [
       "[0, 4, 16]"
      ]
     },
     "execution_count": 19,
     "metadata": {},
     "output_type": "execute_result"
    }
   ],
   "source": [
    "list(map(square, filter(is_even, range(5))))"
   ]
  },
  {
   "cell_type": "markdown",
   "metadata": {},
   "source": [
    "### reduce\n",
    "\n",
    "The reduce function reduces a collection using a binary operator to combine items two at a time. More often than not reduce can be substituted with a more efficient for loop. It is worth mentioning it for its key role in big-data applications together with map (the map-reduce paradigm). \n",
    "N.B.: it no loger exist as built-in function in python 3, it is now part of the `functools` library"
   ]
  },
  {
   "cell_type": "code",
   "execution_count": null,
   "metadata": {},
   "outputs": [],
   "source": [
    "from functools import reduce\n",
    "\n",
    "def my_add(x, y):\n",
    "    return x + y\n",
    "\n",
    "# another implementation of the sum function\n",
    "reduce(my_add, [1,2,3,4,5])"
   ]
  },
  {
   "cell_type": "markdown",
   "metadata": {},
   "source": [
    "### zip\n",
    "\n",
    "zip is useful when you need to iterate over matched elements of multiple lists"
   ]
  },
  {
   "cell_type": "code",
   "execution_count": 20,
   "metadata": {},
   "outputs": [
    {
     "name": "stdout",
     "output_type": "stream",
     "text": [
      "1 10 a\n",
      "2 20 b\n",
      "3 30 c\n",
      "4 40 d\n"
     ]
    }
   ],
   "source": [
    "xs = [1, 2, 3, 4]\n",
    "ys = [10, 20, 30, 40]\n",
    "zs = ['a', 'b', 'c','d']\n",
    "\n",
    "for x, y, z in zip(xs, ys, zs):\n",
    "    print (x, y, z)"
   ]
  },
  {
   "cell_type": "markdown",
   "metadata": {},
   "source": [
    "### Custom HOF"
   ]
  },
  {
   "cell_type": "code",
   "execution_count": 21,
   "metadata": {},
   "outputs": [
    {
     "name": "stdout",
     "output_type": "stream",
     "text": [
      "30\n",
      "100\n"
     ]
    }
   ],
   "source": [
    "def custom_sum(xs, transform):\n",
    "    \"\"\"Returns the sum of xs after a user specified transform.\"\"\"\n",
    "    return sum(map(transform, xs))\n",
    "\n",
    "xs = range(5)\n",
    "print (custom_sum(xs, square))\n",
    "print (custom_sum(xs, cube))\n",
    "\n"
   ]
  },
  {
   "cell_type": "markdown",
   "metadata": {},
   "source": [
    "### Returning a function"
   ]
  },
  {
   "cell_type": "code",
   "execution_count": 24,
   "metadata": {},
   "outputs": [],
   "source": [
    "def make_logger(target):\n",
    "    def logger(data):\n",
    "        with open(target, 'a') as f:\n",
    "            f.write(data + '\\n')\n",
    "    return logger\n",
    "\n",
    "foo_logger = make_logger('foo.txt') #foo.txt will be created if not there already\n",
    "foo_logger('Hello')\n",
    "foo_logger('World')"
   ]
  },
  {
   "cell_type": "code",
   "execution_count": 25,
   "metadata": {},
   "outputs": [
    {
     "name": "stdout",
     "output_type": "stream",
     "text": [
      "Hello\r\n",
      "World\r\n",
      "Hello\r\n",
      "World\r\n"
     ]
    }
   ],
   "source": [
    "! cat 'foo.txt'  #the ! says to jupyer what comes next is something from command line"
   ]
  },
  {
   "cell_type": "markdown",
   "metadata": {},
   "source": [
    "## Anonimous functions (lambda)\n",
    "\n",
    "When using functional style, there is often the need to create specific functions that perform a limited task as input to a HOF such as map or filter. In such cases, these functions are often written as anonymous or lambda functions. \n",
    "The syntax is as follows:\n",
    "\n",
    "lambda *arguments* : *expression*\n",
    "\n",
    "\n",
    "If you find it hard to understand what a lambda function is doing, it should probably be rewritten as a regular function."
   ]
  },
  {
   "cell_type": "code",
   "execution_count": 27,
   "metadata": {},
   "outputs": [
    {
     "data": {
      "text/plain": [
       "7"
      ]
     },
     "execution_count": 27,
     "metadata": {},
     "output_type": "execute_result"
    }
   ],
   "source": [
    "suml = lambda x,y: x+y #creating a function inline\n",
    "suml(3,4)"
   ]
  },
  {
   "cell_type": "code",
   "execution_count": 28,
   "metadata": {},
   "outputs": [
    {
     "data": {
      "text/plain": [
       "7"
      ]
     },
     "execution_count": 28,
     "metadata": {},
     "output_type": "execute_result"
    }
   ],
   "source": [
    "(lambda x,y: x+y)(3,4)"
   ]
  },
  {
   "cell_type": "code",
   "execution_count": 29,
   "metadata": {},
   "outputs": [
    {
     "name": "stdout",
     "output_type": "stream",
     "text": [
      "0\n",
      "1\n",
      "4\n",
      "9\n",
      "16\n"
     ]
    }
   ],
   "source": [
    "for i in map(lambda x: x*x, range(5)): print (i) #lambda function passed to a map"
   ]
  },
  {
   "cell_type": "code",
   "execution_count": 30,
   "metadata": {},
   "outputs": [
    {
     "name": "stdout",
     "output_type": "stream",
     "text": [
      "285\n"
     ]
    }
   ],
   "source": [
    "# what does this function do?\n",
    "from functools import reduce\n",
    "s1 = reduce(lambda x, y: x+y, map(lambda x: x**2, range(1,10)))\n",
    "print(s1)\n"
   ]
  },
  {
   "cell_type": "markdown",
   "metadata": {},
   "source": [
    "## Recursive functions "
   ]
  },
  {
   "cell_type": "code",
   "execution_count": 31,
   "metadata": {},
   "outputs": [
    {
     "name": "stdout",
     "output_type": "stream",
     "text": [
      "[1, 1, 2, 3, 5, 8, 13, 21, 34, 55]\n"
     ]
    }
   ],
   "source": [
    "def fib1(n):\n",
    "    \"\"\"Fib with recursion.\"\"\"\n",
    "\n",
    "    # base case\n",
    "    if n==0 or n==1:\n",
    "        return 1\n",
    "    # recursive case\n",
    "    else:\n",
    "        return fib1(n-1) + fib1(n-2)\n",
    "\n",
    "    \n",
    "print ([fib1(i) for i in range(10)])"
   ]
  },
  {
   "cell_type": "code",
   "execution_count": 32,
   "metadata": {},
   "outputs": [
    {
     "name": "stdout",
     "output_type": "stream",
     "text": [
      "[1, 1, 2, 3, 5, 8, 13, 21, 34, 55]\n"
     ]
    }
   ],
   "source": [
    "# In Python, a more efficient version that does not use recursion is\n",
    "\n",
    "def fib2(n):\n",
    "    \"\"\"Fib without recursion.\"\"\"\n",
    "    a, b = 0, 1\n",
    "    for i in range(1, n+1):\n",
    "        a, b = b, a+b\n",
    "    return b\n",
    "\n",
    "print ([fib2(i) for i in range(10)])"
   ]
  },
  {
   "cell_type": "code",
   "execution_count": 33,
   "metadata": {},
   "outputs": [
    {
     "name": "stdout",
     "output_type": "stream",
     "text": [
      "2.16 ms ± 352 µs per loop (mean ± std. dev. of 7 runs, 100 loops each)\n",
      "869 ns ± 64.8 ns per loop (mean ± std. dev. of 7 runs, 1000000 loops each)\n"
     ]
    }
   ],
   "source": [
    "# check indeed the timing:\n",
    "\n",
    "%timeit fib1(20)\n",
    "%timeit fib2(20)\n"
   ]
  },
  {
   "cell_type": "markdown",
   "metadata": {},
   "source": [
    "## Iterators\n",
    "\n",
    "Iterators represent streams of values. Because only one value is consumed at a time, they use very little memory. Use of iterators is very helpful for working with data sets too large to fit into RAM."
   ]
  },
  {
   "cell_type": "code",
   "execution_count": null,
   "metadata": {},
   "outputs": [],
   "source": [
    "# Iterators can be created from sequences with the built-in function iter()\n",
    "\n",
    "xs = [1,2,3]\n",
    "x_iter = iter(xs)\n",
    "\n",
    "print (next(x_iter))\n",
    "print (next(x_iter))\n",
    "print (next(x_iter))\n",
    "#print (next(x_iter))"
   ]
  },
  {
   "cell_type": "code",
   "execution_count": null,
   "metadata": {},
   "outputs": [],
   "source": [
    "# Most commonly, iterators are used (automatically) within a for loop\n",
    "# which terminates when it encouters a StopIteration exception\n",
    "\n",
    "x_iter = iter(xs)\n",
    "for x in x_iter:\n",
    "    print (x)"
   ]
  },
  {
   "cell_type": "markdown",
   "metadata": {},
   "source": [
    "## More on comprehensions"
   ]
  },
  {
   "cell_type": "code",
   "execution_count": 35,
   "metadata": {},
   "outputs": [
    {
     "name": "stdout",
     "output_type": "stream",
     "text": [
      "<generator object <genexpr> at 0x7fb6d3951350>\n",
      "[0, 1, 4, 9, 16, 25, 36, 49, 64, 81]\n",
      "{0, 1, 2, 3, 4, 5, 6, 7, 8, 9}\n",
      "{0: 'x', 2: 'x', 4: 'x', 6: 'x', 8: 'x'}\n",
      "{'0': 0, '2': 4, '4': 16, '6': 36, '8': 64}\n"
     ]
    }
   ],
   "source": [
    "# A generator expression\n",
    "\n",
    "print ((x for x in range(10)))\n",
    "\n",
    "# A list comprehesnnion\n",
    "\n",
    "print ([x**2 for x in range(10)])\n",
    "\n",
    "# A set comprehension\n",
    "\n",
    "print ({x for x in range(10)})\n",
    "\n",
    "# A dictionary comprehension\n",
    "\n",
    "print ({x: \"x\" for x in range(10) if x%2==0})\n",
    "print ({str(x): x**2 for x in range(10) if x%2==0}) #first is the label"
   ]
  },
  {
   "cell_type": "markdown",
   "metadata": {},
   "source": [
    "## Useful Modules\n",
    "\n",
    "You may want to have a look at the content of the following modules for further usage of (HO) functions:\n",
    "  - [operator](https://docs.python.org/3/library/operator.html)\n",
    "  - [functools](https://docs.python.org/3/library/functools.html)\n",
    "  - [itertools](https://docs.python.org/3/library/itertools.html)\n",
    "  - [toolz](https://pypi.org/project/toolz/)\n",
    "  - [funcy](https://pypi.org/project/funcy/)"
   ]
  },
  {
   "cell_type": "markdown",
   "metadata": {},
   "source": [
    "## Decorators\n",
    "\n",
    "Decorators are a type of HOF that take a function and return a wrapped function that provides additional useful properties.\n",
    "\n",
    "Examples:\n",
    "\n",
    "  - logging\n",
    "  - profiling\n",
    "  - Just-In-Time (JIT) compilation"
   ]
  },
  {
   "cell_type": "code",
   "execution_count": 36,
   "metadata": {},
   "outputs": [],
   "source": [
    "def my_decorator(func):\n",
    "    def wrapper():\n",
    "        print(\"Something is happening before the function is called.\")\n",
    "        func()\n",
    "        print(\"Something is happening after the function is called.\")\n",
    "    return wrapper\n",
    "\n",
    "def say_whee():\n",
    "    print(\"Whee!\")\n",
    "\n",
    "say_whee = my_decorator(say_whee)"
   ]
  },
  {
   "cell_type": "code",
   "execution_count": 37,
   "metadata": {},
   "outputs": [
    {
     "name": "stdout",
     "output_type": "stream",
     "text": [
      "Something is happening before the function is called.\n",
      "Whee!\n",
      "Something is happening after the function is called.\n"
     ]
    }
   ],
   "source": [
    "say_whee()"
   ]
  },
  {
   "cell_type": "markdown",
   "metadata": {},
   "source": [
    "Python allows you to use decorators in a simpler way with the @ symbol, sometimes called the “pie” syntax"
   ]
  },
  {
   "cell_type": "code",
   "execution_count": 38,
   "metadata": {},
   "outputs": [],
   "source": [
    "def my_decorator(func):\n",
    "    def wrapper():\n",
    "        print(\"Something is happening before the function is called.\")\n",
    "        func()\n",
    "        print(\"Something is happening after the function is called.\")\n",
    "    return wrapper\n",
    "\n",
    "@my_decorator\n",
    "def say_whee():\n",
    "    print(\"Whee!\")"
   ]
  },
  {
   "cell_type": "code",
   "execution_count": 39,
   "metadata": {},
   "outputs": [
    {
     "name": "stdout",
     "output_type": "stream",
     "text": [
      "Something is happening before the function is called.\n",
      "Whee!\n",
      "Something is happening after the function is called.\n"
     ]
    }
   ],
   "source": [
    "say_whee()"
   ]
  },
  {
   "cell_type": "markdown",
   "metadata": {},
   "source": [
    "#### JIT\n",
    "\n",
    "A JIT (Just-In-Time) compiler refers to a technique used to improve the performance of code execution by compiling code into machine code at runtime, rather than interpreting it line by line. This helps speed up program execution by reducing the overhead of repeatedly interpreting code.\n",
    "\n",
    "While the standard Python interpreter, CPython, does not include a JIT compiler, there are alternative Python implementations that provide JIT compilation, such as PyPy or [numba](https://numba.pydata.org).\n",
    "\n",
    "JIT combines both interpretation and compilation. It interprets code initially, and as it identifies sections of code that are executed repeatedly, it compiles them to machine code, optimizing performance dynamically.\n",
    "\n"
   ]
  },
  {
   "cell_type": "code",
   "execution_count": 40,
   "metadata": {},
   "outputs": [],
   "source": [
    "from numba import jit\n",
    "\n",
    "@jit\n",
    "def fast_sum(arr):\n",
    "    total = 0\n",
    "    for i in arr:\n",
    "        total += i\n",
    "    return total\n"
   ]
  },
  {
   "cell_type": "code",
   "execution_count": 41,
   "metadata": {},
   "outputs": [
    {
     "name": "stderr",
     "output_type": "stream",
     "text": [
      "/home/william/anaconda3/lib/python3.9/site-packages/numba/core/ir_utils.py:2152: NumbaPendingDeprecationWarning:\n",
      "\n",
      "\u001b[1m\n",
      "Encountered the use of a type that is scheduled for deprecation: type 'reflected list' found for argument 'arr' of function 'fast_sum'.\n",
      "\n",
      "For more information visit https://numba.readthedocs.io/en/stable/reference/deprecation.html#deprecation-of-reflection-for-list-and-set-types\n",
      "\u001b[1m\n",
      "File \"../../../../tmp/ipykernel_1072/2781956960.py\", line 3:\u001b[0m\n",
      "\u001b[1m<source missing, REPL/exec in use?>\u001b[0m\n",
      "\u001b[0m\n",
      "\n"
     ]
    },
    {
     "data": {
      "text/plain": [
       "4950"
      ]
     },
     "execution_count": 41,
     "metadata": {},
     "output_type": "execute_result"
    }
   ],
   "source": [
    "fast_sum(list(range(100)))\n",
    "\n",
    "# is it really fast? Try to compare with my_add above"
   ]
  },
  {
   "cell_type": "markdown",
   "metadata": {},
   "source": [
    "# Classes and Objects\n",
    "\n",
    "Old school object-oriented programming is possible and often used in python. Classes are defined similarly to standard object-oriented languages, with similar functionalities.\n",
    "\n",
    "The main python doc [page](https://docs.python.org/3/tutorial/classes.html) is worth reading through "
   ]
  },
  {
   "cell_type": "code",
   "execution_count": 42,
   "metadata": {},
   "outputs": [
    {
     "name": "stdout",
     "output_type": "stream",
     "text": [
      "buddy 4\n",
      "None\n",
      "12\n"
     ]
    }
   ],
   "source": [
    "class Pet:\n",
    "    # the \"constructor\"\n",
    "    def __init__(self, name, age):  #inizialize the elements of the class\n",
    "        self.name=name\n",
    "        self.age=age\n",
    "    # class functions take the \"self\" parameter !!!\n",
    "    def set_name(self,name):\n",
    "        self.name=name\n",
    "    def convert_age(self,factor):\n",
    "        self.age*=factor\n",
    "\n",
    "buddy=Pet(\"buddy\",4)\n",
    "print (buddy.name, buddy.age)\n",
    "buddy.age=3\n",
    "print (buddy.convert_age(4))\n",
    "print (buddy.age)\n"
   ]
  },
  {
   "cell_type": "code",
   "execution_count": 43,
   "metadata": {},
   "outputs": [
    {
     "name": "stdout",
     "output_type": "stream",
     "text": [
      "tobia\n",
      "70\n"
     ]
    }
   ],
   "source": [
    "# ineritance is straightforward\n",
    "class Dog(Pet):\n",
    "    # the following variables is \"global\", i.e. holds for all \"Dog\" objects\n",
    "    species = \"mammal\"\n",
    "    # functions can be redefined as usual\n",
    "    def convert_age(self):\n",
    "        self.age*=7\n",
    "    def set_species(self, species):\n",
    "        self.species = species\n",
    "        \n",
    "puppy=Dog(\"tobia\",10)\n",
    "print(puppy.name)\n",
    "puppy.convert_age()\n",
    "print(puppy.age)\n",
    "\n"
   ]
  },
  {
   "cell_type": "code",
   "execution_count": null,
   "metadata": {},
   "outputs": [],
   "source": []
  }
 ],
 "metadata": {
  "kernelspec": {
   "display_name": "Python 3 (ipykernel)",
   "language": "python",
   "name": "python3"
  },
  "language_info": {
   "codemirror_mode": {
    "name": "ipython",
    "version": 3
   },
   "file_extension": ".py",
   "mimetype": "text/x-python",
   "name": "python",
   "nbconvert_exporter": "python",
   "pygments_lexer": "ipython3",
   "version": "3.9.13"
  }
 },
 "nbformat": 4,
 "nbformat_minor": 2
}
